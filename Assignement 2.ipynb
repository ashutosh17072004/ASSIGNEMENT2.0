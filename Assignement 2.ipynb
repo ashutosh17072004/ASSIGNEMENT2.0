{
 "cells": [
  {
   "cell_type": "markdown",
   "id": "f6856230-4fc7-4b25-bf98-3c3673b15c45",
   "metadata": {},
   "source": [
    "#Q1. How do you comment code in Python? What are the different types of comments?\n",
    "\n",
    "#Solution (1):\n",
    "'''Comment is the line of code which is ignored by the interpreter during the execution of program. comments enhance the readibilty of code and help the programmers to understand the code very carefully.'\n",
    "''' There are two types of codes.\n",
    "1. Single line comment -: In python Single line comment is denoted by # and it means the line which starts from # will not be executed interpreter. \n",
    "2. Multi line comment -: In python Multi line comment is denoted by \"\"\" and it means the paragraph which starts and ends with (\"\"\") will not be executed by the interpreter."
   ]
  },
  {
   "cell_type": "markdown",
   "id": "70151dfd-4002-4744-a1ea-0645707a1121",
   "metadata": {},
   "source": [
    "Q2. What are variables in Python? How do you declare and assign values to variables?\n",
    "\n",
    "Solution (2): \n",
    "Python Variable is containers that store values. Python is not “statically typed”. We do not need to declare variables before using them or declare their type. A variable is created the moment we first assign a value to it. A Python variable is a name given to a memory location. It is the basic unit of storage in a program\n",
    "Rules for Python variables\n",
    "(1) A Python variable name must start with a letter or the underscore character.\n",
    "(2) A Python variable name cannot start with a number.\n",
    "(3) A Python variable name can only contain alpha-numeric characters and underscores (A-z, 0-9, and _ ).\n",
    "(3) Variable in Python names are case-sensitive (name, Name, and NAME are three different variables).\n",
    "(4) The reserved words(keywords) in Python cannot be used to name the variable in Python."
   ]
  },
  {
   "cell_type": "code",
   "execution_count": null,
   "id": "1be25789-923b-44a0-8e3c-0cd2929e0c75",
   "metadata": {},
   "outputs": [],
   "source": [
    "#for example\n",
    "a = 56\n",
    "prin(a)\n",
    "#In the given example a is the name of variable in which 56 is stored."
   ]
  },
  {
   "cell_type": "code",
   "execution_count": 6,
   "id": "eecbcce3-920e-4d19-ab5f-b43f5aaa4f19",
   "metadata": {},
   "outputs": [
    {
     "ename": "SyntaxError",
     "evalue": "invalid syntax (805594182.py, line 11)",
     "output_type": "error",
     "traceback": [
      "\u001b[0;36m  Cell \u001b[0;32mIn[6], line 11\u001b[0;36m\u001b[0m\n\u001b[0;31m    or example\u001b[0m\n\u001b[0m    ^\u001b[0m\n\u001b[0;31mSyntaxError\u001b[0m\u001b[0;31m:\u001b[0m invalid syntax\n"
     ]
    }
   ],
   "source": []
  },
  {
   "cell_type": "code",
   "execution_count": 7,
   "id": "2a084b3f-075b-46d7-9578-6ff67792a57a",
   "metadata": {},
   "outputs": [
    {
     "name": "stdout",
     "output_type": "stream",
     "text": [
      "<class 'int'>\n",
      "<class 'str'>\n"
     ]
    }
   ],
   "source": [
    "\"\"\"Q3. How do you convert one data type to another in Python?\"\"\"\n",
    "# Solution (3): The python language define type conversion functions like str(), int(), char() to convert one data type to another. This type of conversion is  called type casting becasue the user caste or change the data type of the object.\n",
    "#For example:\n",
    "a = 45\n",
    "print(type(a))\n",
    "print(type(str(a)))"
   ]
  },
  {
   "cell_type": "code",
   "execution_count": 3,
   "id": "cf7fcd2e-f707-46f9-87a3-adbb52883a53",
   "metadata": {},
   "outputs": [
    {
     "name": "stdout",
     "output_type": "stream",
     "text": [
      "Hello world\n"
     ]
    }
   ],
   "source": [
    "\"\"\"Q4. How do you write and execute a Python script from the command line\"\"\"\n",
    "# Solution (4): The most basic and easy way to run a Python script is by using the python command. You need to open a command line and type the word python followed by the path to your script file.\n",
    "\"\"\"For exampele\"\"\" \n",
    "a = \"Hello world\"\n",
    "print(a) "
   ]
  },
  {
   "cell_type": "code",
   "execution_count": 8,
   "id": "d6561777-ee22-44de-a902-a0eb513ee0a6",
   "metadata": {},
   "outputs": [
    {
     "data": {
      "text/plain": [
       "[2, 3]"
      ]
     },
     "execution_count": 8,
     "metadata": {},
     "output_type": "execute_result"
    }
   ],
   "source": [
    "\"\"\"Q5. Given a list my_list = [1, 2, 3, 4, 5], write the code to slice the list and obtain the sub-list [2, 3].\"\"\"\n",
    "# Solution (5) : The code to slice the list and obtain the sub-list [2,3]\n",
    "my_list = [1, 2, 3, 4, 5]\n",
    "my_list[1:3]"
   ]
  },
  {
   "cell_type": "markdown",
   "id": "8634b6e2-e775-43a7-bd1c-85208260ec84",
   "metadata": {},
   "source": [
    "Q6. What is a complex number in mathematics, and how is it represented in Python?\n",
    "#Solution (6) : \n",
    "A complex number is a number which can be written in the form of a+bi. where a is a real number and bi is a imaaginaary number. and i an indeterminate atysfying  i**2 = 1\n",
    "for example  6+8j is an complex number.\n",
    "\n",
    "In python the complex number is represented as (x + yj) where x and y are real numbers and j is an imaginary number which is the square root of -1.\n",
    "For example"
   ]
  },
  {
   "cell_type": "code",
   "execution_count": 7,
   "id": "c9f1e2dc-3aef-4803-a8cb-6088c996ffd2",
   "metadata": {},
   "outputs": [
    {
     "data": {
      "text/plain": [
       "(5+8j)"
      ]
     },
     "execution_count": 7,
     "metadata": {},
     "output_type": "execute_result"
    }
   ],
   "source": [
    "complex(5,8)"
   ]
  },
  {
   "cell_type": "markdown",
   "id": "e613b7ec-ac52-4acf-b9fb-288f54ca27b6",
   "metadata": {},
   "source": []
  },
  {
   "cell_type": "markdown",
   "id": "9c2ebea0-1e8b-40f5-91d0-4d89fef97e75",
   "metadata": {},
   "source": [
    "Q7. What is the correct way to declare a variable named age and assign the value 25 to it?\n",
    "Solution (7) : \n",
    "Python has no command to declare the variable. A variable is created when some value is assigned to it. The value assigned to a variable determines the data type of that variable.\n",
    "Thus, declaring a variable in Python is very simple.\n",
    "Just name the variable\n",
    "Assign the required value to it\n",
    "The data type of the variable will be automatically determined from the value assigned, we need not define it explicitly.\n",
    "For example:\n",
    "In Python, you can declare a variable named age and assign the value 25 to it using the following code:"
   ]
  },
  {
   "cell_type": "code",
   "execution_count": 6,
   "id": "e8e43e02-6fda-454c-be92-6d3525acdc00",
   "metadata": {},
   "outputs": [],
   "source": [
    "age = 25\n",
    "print(age)\n",
    "\n",
    "\"\"\"Note: In python we dont have to declare the data type of python.\"\"\""
   ]
  },
  {
   "cell_type": "code",
   "execution_count": 6,
   "id": "8db04fee-557e-4c1c-9e4f-fa18de4d13e2",
   "metadata": {},
   "outputs": [
    {
     "name": "stdout",
     "output_type": "stream",
     "text": [
      "25\n"
     ]
    },
    {
     "data": {
      "text/plain": [
       "'Note: In python we dont have to declare the data type of python.'"
      ]
     },
     "execution_count": 6,
     "metadata": {},
     "output_type": "execute_result"
    }
   ],
   "source": []
  },
  {
   "cell_type": "code",
   "execution_count": 8,
   "id": "290b1c5d-a071-4d3f-9244-b2736056106a",
   "metadata": {},
   "outputs": [
    {
     "name": "stdout",
     "output_type": "stream",
     "text": [
      "9.99\n"
     ]
    },
    {
     "data": {
      "text/plain": [
       "'Hence will get the output i.e float'"
      ]
     },
     "execution_count": 8,
     "metadata": {},
     "output_type": "execute_result"
    }
   ],
   "source": [
    "\"\"\"Q8. Declare a variable named price and assign the value 9.99 to it. What data type does this variable\n",
    "belong to?\"\"\"\n",
    "#Solution (8): In Python, you can declare a variable named age and assign the value 25 to it using the following code:\"\"\"\n",
    "price = 9.99\n",
    "print(price)\n",
    "#Note: In python we dont have to declare the data type of python.\n",
    "\"\"\"To check the data type of of the varible we have to use type() function.\n",
    "We can check the data type of any variable by using type function, we can check the type of the variable given above by using the following code.\"\"\"\n",
    "type(price)\n",
    "\"\"\"Hence will get the output i.e float\"\"\""
   ]
  },
  {
   "cell_type": "code",
   "execution_count": 9,
   "id": "d8d1b1fb-b4b0-478b-b1a7-9dd303a2ce59",
   "metadata": {},
   "outputs": [
    {
     "name": "stdout",
     "output_type": "stream",
     "text": [
      "Ashutosh Tiwari\n"
     ]
    }
   ],
   "source": [
    "\"\"\"Q9. Create a variable named name and assign your full name to it as a string. How would you print the\n",
    "value of this variable?\"\"\"\n",
    "#SOlution (10):\n",
    "\"\"\"In Python, you can declare a variable named Name and assign the value Ashutosh Tiwari.\"\"\"\n",
    "Name = \"Ashutosh Tiwari\"\n",
    "\"\"\"To print the value of the variable we have to use the following code\"\"\" \n",
    "print(Name)"
   ]
  },
  {
   "cell_type": "code",
   "execution_count": 11,
   "id": "f892a82f-a3a6-46e0-a967-9ea6913ab25b",
   "metadata": {},
   "outputs": [
    {
     "name": "stdout",
     "output_type": "stream",
     "text": [
      "World\n"
     ]
    },
    {
     "data": {
      "text/plain": [
       "'In this code, string[7:12] indicates that you want to extract characters from index 7 (inclusive) to index 12 (exclusive) of the string. This range corresponds to the substring \"World\".'"
      ]
     },
     "execution_count": 11,
     "metadata": {},
     "output_type": "execute_result"
    }
   ],
   "source": [
    "\"\"\"Q10. Given the string \"Hello, World!\", extract the substring \"World\".\n",
    "#Soltuion: You can extract the substring \"World\" from the string \"Hello, World!\" using slicing in Python. Here's how you can do it:\"\"\"\n",
    "string = \"Hello, World!\"\n",
    "substring = string[7:12]\n",
    "print(substring)  # This will output: \"World\"\n",
    "\"\"\"In this code, string[7:12] indicates that you want to extract characters from index 7 (inclusive) to index 12 (exclusive) of the string. This range corresponds to the substring \"World\".\"\"\""
   ]
  },
  {
   "cell_type": "code",
   "execution_count": 3,
   "id": "e6ecdd92-4ff8-4586-8597-4920010d2b77",
   "metadata": {},
   "outputs": [
    {
     "data": {
      "text/plain": [
       "'In this case, I have assigned the value False to the variable is_student to indicate that I am not currently a student.'"
      ]
     },
     "execution_count": 3,
     "metadata": {},
     "output_type": "execute_result"
    }
   ],
   "source": [
    "\"\"\"Q11. Create a variable named \"is_student\" and assign it a boolean value indicating whether you are currently a student or not.\"\"\"\n",
    "#Solution (11) : \n",
    "\"\"\"I can certainly create the variable for you:\"\"\"\n",
    "is_student = False\n",
    "\"\"\"In this case, I have assigned the value False to the variable is_student to indicate that I am not currently a student.\"\"\""
   ]
  },
  {
   "cell_type": "markdown",
   "id": "f773f5bb-4559-4723-9079-75535b1d7a62",
   "metadata": {},
   "source": []
  }
 ],
 "metadata": {
  "kernelspec": {
   "display_name": "Python 3 (ipykernel)",
   "language": "python",
   "name": "python3"
  },
  "language_info": {
   "codemirror_mode": {
    "name": "ipython",
    "version": 3
   },
   "file_extension": ".py",
   "mimetype": "text/x-python",
   "name": "python",
   "nbconvert_exporter": "python",
   "pygments_lexer": "ipython3",
   "version": "3.10.8"
  }
 },
 "nbformat": 4,
 "nbformat_minor": 5
}
